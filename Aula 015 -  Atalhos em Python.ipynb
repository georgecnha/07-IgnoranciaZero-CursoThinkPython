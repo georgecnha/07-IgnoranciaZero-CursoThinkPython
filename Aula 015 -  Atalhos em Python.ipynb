{
 "cells": [
  {
   "cell_type": "markdown",
   "metadata": {},
   "source": [
    "# Número T\n"
   ]
  },
  {
   "cell_type": "markdown",
   "metadata": {},
   "source": [
    "#### Dizemos que um número é T, se é produto de quatro naturais consecutivos.\n",
    "\n",
    "Exemplo: 120 é T porque 4.5.6= 120.\n",
    "\n",
    "Dado um inteiro não-negativo n, verificar se n é T."
   ]
  },
  {
   "cell_type": "code",
   "execution_count": 4,
   "metadata": {},
   "outputs": [
    {
     "name": "stdout",
     "output_type": "stream",
     "text": [
      "Digite o número a ser testado: 120\n",
      "N é um número T\n"
     ]
    }
   ],
   "source": [
    "n= int(input(\"Digite o número a ser testado: \"))\n",
    "i,j,k= 1,2,3\n",
    "\n",
    "while i*j*k < n:\n",
    "    i+= 1\n",
    "    j+= 1 \n",
    "    k+= 1\n",
    "if i*j*k == n:\n",
    "    print('N é um número T')\n",
    "else:\n",
    "    print ('N não é um número T')"
   ]
  },
  {
   "cell_type": "markdown",
   "metadata": {},
   "source": [
    "#### Foi apresentado um 'atalho' relacionado à função print. Muito semelhante ao {} em conjunto com o .format(variável). \n",
    "A seguir vai um exemplo:\n"
   ]
  },
  {
   "cell_type": "code",
   "execution_count": 3,
   "metadata": {},
   "outputs": [
    {
     "name": "stdout",
     "output_type": "stream",
     "text": [
      "Digite a idade:14\n",
      "Você fara 14 anos\n"
     ]
    }
   ],
   "source": [
    "idade=int(input('Digite a idade: '))\n",
    "print('Você fara %i anos'%(idade))"
   ]
  },
  {
   "cell_type": "markdown",
   "metadata": {},
   "source": [
    "#### O % associado a uma letra que representa algum dos tipos primitivos (no exemplo %i, de inteiros) indica a impressão de uma váriável que será relacionada dentro dos parênteses.  No exemplo  %(idade). "
   ]
  }
 ],
 "metadata": {
  "kernelspec": {
   "display_name": "Python 3.6",
   "language": "python",
   "name": "python36"
  },
  "language_info": {
   "codemirror_mode": {
    "name": "ipython",
    "version": 3
   },
   "file_extension": ".py",
   "mimetype": "text/x-python",
   "name": "python",
   "nbconvert_exporter": "python",
   "pygments_lexer": "ipython3",
   "version": "3.6.3"
  }
 },
 "nbformat": 4,
 "nbformat_minor": 2
}
