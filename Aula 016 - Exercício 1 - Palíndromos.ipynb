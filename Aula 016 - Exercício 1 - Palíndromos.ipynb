{
 "cells": [
  {
   "cell_type": "code",
   "execution_count": 13,
   "metadata": {},
   "outputs": [
    {
     "name": "stdout",
     "output_type": "stream",
     "text": [
      "Digite um numero maior que 10: 557764\n",
      "557764 não é um palindromo!\n"
     ]
    }
   ],
   "source": [
    "\n",
    "\"\"\"\n",
    "Dizemos que um número natural n é palíndromo (3) se \n",
    "    o 1º algarismo de n é igual ao seu último algarismo, \n",
    "    o 2º algarismo de n é igual ao penúltimo algarismo, \n",
    "    e assim sucessivamente.\n",
    " \n",
    "Exemplos:\n",
    "567765 e 32423 são palíndromos.\n",
    "567675 não é palíndromo.dig=reversoo\n",
    "567765\n",
    "iguais\n",
    "567765\n",
    "\"\"\"\n",
    " \n",
    "#   aux         dig           reverso            n\n",
    "#   567765       0               0             567765\n",
    "#----------------------------------------------------\n",
    "#   567765       5             5\n",
    "#   56776        6             50 + 6 --> 56\n",
    "#   5677         7             560 + 7 --> 567\n",
    "#   567          7             5670 + 7 --> 5677\n",
    "#   56           6             56770 + 6 --> 56776\n",
    "#   5            5             567760 + 5 --> 567765\n",
    "#   0\n",
    " \n",
    "#  aux//10    aux%10           reverso*10 + dig\n",
    " \n",
    "n = int(input(\"Digite um numero maior que 10: \"))\n",
    " \n",
    "aux=n\n",
    "dig=reverso=0\n",
    "\n",
    "while aux!= 0:\n",
    "    dig=aux%10\n",
    "    reverso=reverso*10 +dig\n",
    "    aux//=10\n",
    "    \n",
    "if reverso==n:\n",
    "    print('%i é um palindromo!'%(n))      \n",
    "else:\n",
    "    print('%i não é um palindromo!'%(n))  "
   ]
  },
  {
   "cell_type": "markdown",
   "metadata": {},
   "source": [
    "#### Depois são feitas algumas modificações para que o algoritmo fique menor."
   ]
  },
  {
   "cell_type": "code",
   "execution_count": 15,
   "metadata": {},
   "outputs": [
    {
     "name": "stdout",
     "output_type": "stream",
     "text": [
      "Digite um numero maior que 10: 557754\n",
      "557754 não é um palindromo!\n"
     ]
    }
   ],
   "source": [
    "n = int(input(\"Digite um numero maior que 10: \"))\n",
    " \n",
    "aux,reverso= n, 0\n",
    "\n",
    "while aux!= 0:\n",
    "    reverso=reverso*10 + aux%10          #dig= aux%10\n",
    "    aux//=10\n",
    "    \n",
    "if reverso==n:\n",
    "    print('%i é um palindromo!'%(n))      \n",
    "else:\n",
    "    print('%i não é um palindromo!'%(n))  "
   ]
  },
  {
   "cell_type": "code",
   "execution_count": null,
   "metadata": {},
   "outputs": [],
   "source": []
  }
 ],
 "metadata": {
  "kernelspec": {
   "display_name": "Python 3.6",
   "language": "python",
   "name": "python36"
  },
  "language_info": {
   "codemirror_mode": {
    "name": "ipython",
    "version": 3
   },
   "file_extension": ".py",
   "mimetype": "text/x-python",
   "name": "python",
   "nbconvert_exporter": "python",
   "pygments_lexer": "ipython3",
   "version": "3.6.3"
  }
 },
 "nbformat": 4,
 "nbformat_minor": 2
}
