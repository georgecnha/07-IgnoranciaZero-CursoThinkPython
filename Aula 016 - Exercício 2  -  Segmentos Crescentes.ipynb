{
 "cells": [
  {
   "cell_type": "code",
   "execution_count": null,
   "metadata": {},
   "outputs": [],
   "source": [
    "\"\"\"\n",
    " Dados n e uma seqüência de n números inteiros, determinar o comprimento de\n",
    " um segmento crescente de comprimento máximo.\n",
    " \n",
    "Exemplos:\n",
    "Na seqüência   5,  10,  3,  2,  4,  7,  9,  8,  5\n",
    "o comprimento do segmento crescente máximo é 4.\n",
    " \n",
    "Na seqüência   10,  8,  7,  5,  2\n",
    "o comprimento de um segmento crescente máximo é 1.\n",
    "\"\"\"\n",
    " \n",
    "# 5,  10,  3,  2,  4,  7,  9,  8,  5\n",
    " \n",
    "#ant = 5\n",
    "#seg = 1\n",
    "#segMAX = 1\n",
    "#--------------------------------\n",
    "#prox = 10\n",
    "#10 > 5 --> seg + 1\n",
    "#--------------------------------\n",
    "#ant = 10\n",
    "#prox = 3\n",
    "#3 > 10 --> parou\n",
    "# --> seg > segMAX --> segMAX = seg => seg = 1\n",
    " \n",
    "#--------------------------------\n",
    "#ant = 3\n",
    "#prox = 2\n",
    "# 2 > 3 --> parou\n",
    "# --> seg > segMAX --> seg = 1\n",
    "\n",
    "\n",
    "\n",
    "\n",
    "\n",
    "n=int(input('Digite o tamanho da sequência: '))\n",
    "ant= int(input('Digite o primeiro número da sequencia: '))\n",
    "cont=1\n",
    "\n",
    "while cont<n:\n",
    "    prox=int(input('Digite o %i número da sequência)%(cont+1))\n",
    "    if"
   ]
  }
 ],
 "metadata": {
  "kernelspec": {
   "display_name": "Python 3.6",
   "language": "python",
   "name": "python36"
  },
  "language_info": {
   "codemirror_mode": {
    "name": "ipython",
    "version": 3
   },
   "file_extension": ".py",
   "mimetype": "text/x-python",
   "name": "python",
   "nbconvert_exporter": "python",
   "pygments_lexer": "ipython3",
   "version": "3.6.3"
  }
 },
 "nbformat": 4,
 "nbformat_minor": 2
}
