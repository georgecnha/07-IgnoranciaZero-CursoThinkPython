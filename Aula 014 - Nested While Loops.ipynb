{
  "cells": [
    {
      "metadata": {
        "trusted": false
      },
      "cell_type": "code",
      "source": "n=int(input('Digite o numero de empresas: '))\nm=int(input('Digite o numero de meses: '))\n\nempresa=1\nprint('')\nwhile empresa<=n:\n    mes=1\n    balança= 0\n    print(\"Empresa\", empresa, ': ')\n    while mes<=m:\n        print('Mes', mes, ': ')\n        ganho= int(input('Digite o ganho da empresa: '))\n        gasto= int(input('Digite o gasto da empresa: '))       \n        balança= balança + (ganho-gasto)\n        mes=mes+1\n    if balança == 0:\n        print ('A empresa ficou indiferente.')\n    elif balança > 0:\n        print ('A empresa obteve lucro de R$', balança)\n    else:\n        print('A empresa teve prejuízo de R$', balança)\n    empresa=empresa+1",
      "execution_count": 1,
      "outputs": [
        {
          "name": "stdout",
          "output_type": "stream",
          "text": "Digite o numero de empresas: 1\nDigite o numero de meses: 2\n\nEmpresa 1 : \nMes 1 : \nDigite o ganho da empresa: 50\nDigite o gasto da empresa: 40\nMes 2 : \nDigite o ganho da empresa: 64\nDigite o gasto da empresa: 60\nA empresa obteve lucro de R$ 14\n"
        }
      ]
    },
    {
      "metadata": {
        "trusted": false
      },
      "cell_type": "code",
      "source": "",
      "execution_count": null,
      "outputs": []
    },
    {
      "metadata": {
        "trusted": false
      },
      "cell_type": "code",
      "source": "",
      "execution_count": null,
      "outputs": []
    }
  ],
  "metadata": {
    "kernelspec": {
      "name": "python36",
      "display_name": "Python 3.6",
      "language": "python"
    },
    "language_info": {
      "mimetype": "text/x-python",
      "nbconvert_exporter": "python",
      "name": "python",
      "pygments_lexer": "ipython3",
      "version": "3.6.6",
      "file_extension": ".py",
      "codemirror_mode": {
        "version": 3,
        "name": "ipython"
      }
    }
  },
  "nbformat": 4,
  "nbformat_minor": 2
}